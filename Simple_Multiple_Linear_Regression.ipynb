{
  "nbformat": 4,
  "nbformat_minor": 0,
  "metadata": {
    "colab": {
      "name": "Simple-Multiple- Linear-Regression.ipynb",
      "provenance": [],
      "authorship_tag": "ABX9TyOQtBB3ZEQNPhLdqGpxfWqP",
      "include_colab_link": true
    },
    "kernelspec": {
      "name": "python3",
      "display_name": "Python 3"
    }
  },
  "cells": [
    {
      "cell_type": "markdown",
      "metadata": {
        "id": "view-in-github",
        "colab_type": "text"
      },
      "source": [
        "<a href=\"https://colab.research.google.com/github/iamujjwalgupta/Data-Science-Projects/blob/master/Simple_Multiple_Linear_Regression.ipynb\" target=\"_parent\"><img src=\"https://colab.research.google.com/assets/colab-badge.svg\" alt=\"Open In Colab\"/></a>"
      ]
    },
    {
      "cell_type": "markdown",
      "metadata": {
        "id": "RIRz8HM8yOak",
        "colab_type": "text"
      },
      "source": [
        "# Multiple Linear Regression"
      ]
    },
    {
      "cell_type": "markdown",
      "metadata": {
        "id": "4p0JTxbIyavD",
        "colab_type": "text"
      },
      "source": [
        "# Step 1. Reading and Understanding the data"
      ]
    },
    {
      "cell_type": "code",
      "metadata": {
        "id": "qKsoWsO5yXp9",
        "colab_type": "code",
        "colab": {}
      },
      "source": [
        "# Supress Warnings\n",
        "import warnings\n",
        "warnings.filterwarnings('ignore')"
      ],
      "execution_count": 1,
      "outputs": []
    },
    {
      "cell_type": "code",
      "metadata": {
        "id": "BwOBRpPmyhFJ",
        "colab_type": "code",
        "colab": {}
      },
      "source": [
        "# Import the numpy and pandas packages\n",
        "import numpy as np\n",
        "import pandas as pd"
      ],
      "execution_count": 2,
      "outputs": []
    },
    {
      "cell_type": "code",
      "metadata": {
        "id": "UMarL3Mhymq9",
        "colab_type": "code",
        "colab": {
          "base_uri": "https://localhost:8080/",
          "height": 359
        },
        "outputId": "e1954bf1-4396-4196-a72b-4de7eff099ca"
      },
      "source": [
        "# Read the given CSV file.\n",
        "startup = pd.read_csv(\"/content/data-science-projects/Startup.csv\")\n",
        "startup.head(10)"
      ],
      "execution_count": 3,
      "outputs": [
        {
          "output_type": "execute_result",
          "data": {
            "text/html": [
              "<div>\n",
              "<style scoped>\n",
              "    .dataframe tbody tr th:only-of-type {\n",
              "        vertical-align: middle;\n",
              "    }\n",
              "\n",
              "    .dataframe tbody tr th {\n",
              "        vertical-align: top;\n",
              "    }\n",
              "\n",
              "    .dataframe thead th {\n",
              "        text-align: right;\n",
              "    }\n",
              "</style>\n",
              "<table border=\"1\" class=\"dataframe\">\n",
              "  <thead>\n",
              "    <tr style=\"text-align: right;\">\n",
              "      <th></th>\n",
              "      <th>R&amp;D Spend</th>\n",
              "      <th>Administration</th>\n",
              "      <th>Marketing Spend</th>\n",
              "      <th>Profit</th>\n",
              "    </tr>\n",
              "  </thead>\n",
              "  <tbody>\n",
              "    <tr>\n",
              "      <th>0</th>\n",
              "      <td>165349.20</td>\n",
              "      <td>136897.80</td>\n",
              "      <td>471784.10</td>\n",
              "      <td>192261.83</td>\n",
              "    </tr>\n",
              "    <tr>\n",
              "      <th>1</th>\n",
              "      <td>162597.70</td>\n",
              "      <td>151377.59</td>\n",
              "      <td>443898.53</td>\n",
              "      <td>191792.06</td>\n",
              "    </tr>\n",
              "    <tr>\n",
              "      <th>2</th>\n",
              "      <td>153441.51</td>\n",
              "      <td>101145.55</td>\n",
              "      <td>407934.54</td>\n",
              "      <td>191050.39</td>\n",
              "    </tr>\n",
              "    <tr>\n",
              "      <th>3</th>\n",
              "      <td>144372.41</td>\n",
              "      <td>118671.85</td>\n",
              "      <td>383199.62</td>\n",
              "      <td>182901.99</td>\n",
              "    </tr>\n",
              "    <tr>\n",
              "      <th>4</th>\n",
              "      <td>142107.34</td>\n",
              "      <td>91391.77</td>\n",
              "      <td>366168.42</td>\n",
              "      <td>166187.94</td>\n",
              "    </tr>\n",
              "    <tr>\n",
              "      <th>5</th>\n",
              "      <td>131876.90</td>\n",
              "      <td>99814.71</td>\n",
              "      <td>362861.36</td>\n",
              "      <td>156991.12</td>\n",
              "    </tr>\n",
              "    <tr>\n",
              "      <th>6</th>\n",
              "      <td>134615.46</td>\n",
              "      <td>147198.87</td>\n",
              "      <td>127716.82</td>\n",
              "      <td>156122.51</td>\n",
              "    </tr>\n",
              "    <tr>\n",
              "      <th>7</th>\n",
              "      <td>130298.13</td>\n",
              "      <td>145530.06</td>\n",
              "      <td>323876.68</td>\n",
              "      <td>155752.60</td>\n",
              "    </tr>\n",
              "    <tr>\n",
              "      <th>8</th>\n",
              "      <td>120542.52</td>\n",
              "      <td>148718.95</td>\n",
              "      <td>311613.29</td>\n",
              "      <td>152211.77</td>\n",
              "    </tr>\n",
              "    <tr>\n",
              "      <th>9</th>\n",
              "      <td>123334.88</td>\n",
              "      <td>108679.17</td>\n",
              "      <td>304981.62</td>\n",
              "      <td>149759.96</td>\n",
              "    </tr>\n",
              "  </tbody>\n",
              "</table>\n",
              "</div>"
            ],
            "text/plain": [
              "   R&D Spend  Administration  Marketing Spend     Profit\n",
              "0  165349.20       136897.80        471784.10  192261.83\n",
              "1  162597.70       151377.59        443898.53  191792.06\n",
              "2  153441.51       101145.55        407934.54  191050.39\n",
              "3  144372.41       118671.85        383199.62  182901.99\n",
              "4  142107.34        91391.77        366168.42  166187.94\n",
              "5  131876.90        99814.71        362861.36  156991.12\n",
              "6  134615.46       147198.87        127716.82  156122.51\n",
              "7  130298.13       145530.06        323876.68  155752.60\n",
              "8  120542.52       148718.95        311613.29  152211.77\n",
              "9  123334.88       108679.17        304981.62  149759.96"
            ]
          },
          "metadata": {
            "tags": []
          },
          "execution_count": 3
        }
      ]
    },
    {
      "cell_type": "code",
      "metadata": {
        "id": "xZUL0fqvzohi",
        "colab_type": "code",
        "colab": {
          "base_uri": "https://localhost:8080/",
          "height": 34
        },
        "outputId": "a0cea566-8b6d-4ffa-a2d2-5ca4ea4b4b57"
      },
      "source": [
        "startup.shape"
      ],
      "execution_count": 4,
      "outputs": [
        {
          "output_type": "execute_result",
          "data": {
            "text/plain": [
              "(50, 4)"
            ]
          },
          "metadata": {
            "tags": []
          },
          "execution_count": 4
        }
      ]
    },
    {
      "cell_type": "code",
      "metadata": {
        "id": "Pdc9ZN_-z60c",
        "colab_type": "code",
        "colab": {
          "base_uri": "https://localhost:8080/",
          "height": 204
        },
        "outputId": "6fd0d215-5894-4553-ba5f-1c46a2a4cc12"
      },
      "source": [
        "startup.info()"
      ],
      "execution_count": 5,
      "outputs": [
        {
          "output_type": "stream",
          "text": [
            "<class 'pandas.core.frame.DataFrame'>\n",
            "RangeIndex: 50 entries, 0 to 49\n",
            "Data columns (total 4 columns):\n",
            " #   Column           Non-Null Count  Dtype  \n",
            "---  ------           --------------  -----  \n",
            " 0   R&D Spend        50 non-null     float64\n",
            " 1   Administration   50 non-null     float64\n",
            " 2   Marketing Spend  50 non-null     float64\n",
            " 3   Profit           50 non-null     float64\n",
            "dtypes: float64(4)\n",
            "memory usage: 1.7 KB\n"
          ],
          "name": "stdout"
        }
      ]
    },
    {
      "cell_type": "code",
      "metadata": {
        "id": "PN-YqQtlz8nN",
        "colab_type": "code",
        "colab": {
          "base_uri": "https://localhost:8080/",
          "height": 297
        },
        "outputId": "57ebfdb9-1539-4611-85a2-bfc09f90d6d5"
      },
      "source": [
        "startup.describe()"
      ],
      "execution_count": 6,
      "outputs": [
        {
          "output_type": "execute_result",
          "data": {
            "text/html": [
              "<div>\n",
              "<style scoped>\n",
              "    .dataframe tbody tr th:only-of-type {\n",
              "        vertical-align: middle;\n",
              "    }\n",
              "\n",
              "    .dataframe tbody tr th {\n",
              "        vertical-align: top;\n",
              "    }\n",
              "\n",
              "    .dataframe thead th {\n",
              "        text-align: right;\n",
              "    }\n",
              "</style>\n",
              "<table border=\"1\" class=\"dataframe\">\n",
              "  <thead>\n",
              "    <tr style=\"text-align: right;\">\n",
              "      <th></th>\n",
              "      <th>R&amp;D Spend</th>\n",
              "      <th>Administration</th>\n",
              "      <th>Marketing Spend</th>\n",
              "      <th>Profit</th>\n",
              "    </tr>\n",
              "  </thead>\n",
              "  <tbody>\n",
              "    <tr>\n",
              "      <th>count</th>\n",
              "      <td>50.000000</td>\n",
              "      <td>50.000000</td>\n",
              "      <td>50.000000</td>\n",
              "      <td>50.000000</td>\n",
              "    </tr>\n",
              "    <tr>\n",
              "      <th>mean</th>\n",
              "      <td>73721.615600</td>\n",
              "      <td>121344.639600</td>\n",
              "      <td>211025.097800</td>\n",
              "      <td>112012.639200</td>\n",
              "    </tr>\n",
              "    <tr>\n",
              "      <th>std</th>\n",
              "      <td>45902.256482</td>\n",
              "      <td>28017.802755</td>\n",
              "      <td>122290.310726</td>\n",
              "      <td>40306.180338</td>\n",
              "    </tr>\n",
              "    <tr>\n",
              "      <th>min</th>\n",
              "      <td>0.000000</td>\n",
              "      <td>51283.140000</td>\n",
              "      <td>0.000000</td>\n",
              "      <td>14681.400000</td>\n",
              "    </tr>\n",
              "    <tr>\n",
              "      <th>25%</th>\n",
              "      <td>39936.370000</td>\n",
              "      <td>103730.875000</td>\n",
              "      <td>129300.132500</td>\n",
              "      <td>90138.902500</td>\n",
              "    </tr>\n",
              "    <tr>\n",
              "      <th>50%</th>\n",
              "      <td>73051.080000</td>\n",
              "      <td>122699.795000</td>\n",
              "      <td>212716.240000</td>\n",
              "      <td>107978.190000</td>\n",
              "    </tr>\n",
              "    <tr>\n",
              "      <th>75%</th>\n",
              "      <td>101602.800000</td>\n",
              "      <td>144842.180000</td>\n",
              "      <td>299469.085000</td>\n",
              "      <td>139765.977500</td>\n",
              "    </tr>\n",
              "    <tr>\n",
              "      <th>max</th>\n",
              "      <td>165349.200000</td>\n",
              "      <td>182645.560000</td>\n",
              "      <td>471784.100000</td>\n",
              "      <td>192261.830000</td>\n",
              "    </tr>\n",
              "  </tbody>\n",
              "</table>\n",
              "</div>"
            ],
            "text/plain": [
              "           R&D Spend  Administration  Marketing Spend         Profit\n",
              "count      50.000000       50.000000        50.000000      50.000000\n",
              "mean    73721.615600   121344.639600    211025.097800  112012.639200\n",
              "std     45902.256482    28017.802755    122290.310726   40306.180338\n",
              "min         0.000000    51283.140000         0.000000   14681.400000\n",
              "25%     39936.370000   103730.875000    129300.132500   90138.902500\n",
              "50%     73051.080000   122699.795000    212716.240000  107978.190000\n",
              "75%    101602.800000   144842.180000    299469.085000  139765.977500\n",
              "max    165349.200000   182645.560000    471784.100000  192261.830000"
            ]
          },
          "metadata": {
            "tags": []
          },
          "execution_count": 6
        }
      ]
    },
    {
      "cell_type": "markdown",
      "metadata": {
        "id": "Uw0QUjnd0Dj_",
        "colab_type": "text"
      },
      "source": [
        "# Step 2. Visualising the data"
      ]
    },
    {
      "cell_type": "markdown",
      "metadata": {
        "id": "m7MzzdeD0H3D",
        "colab_type": "text"
      },
      "source": [
        "Scatter Plot"
      ]
    },
    {
      "cell_type": "code",
      "metadata": {
        "id": "RtGKtTRJ0LHi",
        "colab_type": "code",
        "colab": {}
      },
      "source": [
        "import matplotlib.pyplot as plt\n",
        "import seaborn as sns"
      ],
      "execution_count": 7,
      "outputs": []
    },
    {
      "cell_type": "code",
      "metadata": {
        "id": "s2oLFeUe0Qgg",
        "colab_type": "code",
        "colab": {
          "base_uri": "https://localhost:8080/",
          "height": 317
        },
        "outputId": "e598480d-5852-4a21-b7ff-4a738f0d19a7"
      },
      "source": [
        "sns.pairplot(startup, x_vars=['R&D Spend', 'Administration', 'Marketing Spend'], y_vars='Profit',size=4, aspect=1, kind='scatter')\n",
        "plt.show()"
      ],
      "execution_count": 8,
      "outputs": [
        {
          "output_type": "display_data",
          "data": {
            "image/png": "[encoded data removed]",
            "text/plain": [
              "<Figure size 864x288 with 3 Axes>"
            ]
          },
          "metadata": {
            "tags": [],
            "needs_background": "light"
          }
        }
      ]
    },
    {
      "cell_type": "markdown",
      "metadata": {
        "id": "bQXCGSkB0U1_",
        "colab_type": "text"
      },
      "source": [
        "Heat Map"
      ]
    },
    {
      "cell_type": "code",
      "metadata": {
        "id": "v1fPAGVW0Vkf",
        "colab_type": "code",
        "colab": {
          "base_uri": "https://localhost:8080/",
          "height": 344
        },
        "outputId": "0cab5239-7d10-492e-8387-cf347b6e884e"
      },
      "source": [
        "#plt.figure(figsize=(7,7))\n",
        "sns.heatmap(startup.corr(), cmap=\"RdBu\",  annot = True)\n",
        "plt.show()"
      ],
      "execution_count": 9,
      "outputs": [
        {
          "output_type": "display_data",
          "data": {
            "image/png": "[encoded data removed]",
            "text/plain": [
              "<Figure size 432x288 with 2 Axes>"
            ]
          },
          "metadata": {
            "tags": [],
            "needs_background": "light"
          }
        }
      ]
    },
    {
      "cell_type": "markdown",
      "metadata": {
        "id": "HDRs2Idx0brl",
        "colab_type": "text"
      },
      "source": [
        "**# Step 3. Performaing Simple Linear Regression and Multiple Linear Regression**"
      ]
    },
    {
      "cell_type": "markdown",
      "metadata": {
        "id": "tp0p5SG40g6U",
        "colab_type": "text"
      },
      "source": [
        "Equation of linear regression \n",
        "\n",
        "y = c + mx\n",
        "\n",
        "y = c + m1x1 + m2x2 + ... + mnxn\n",
        "\n",
        "-  y is the response\n",
        "-  c is the intercept\n",
        "-  m1 is the coefficient for the first feature\n",
        "-  mn is the coefficient for the nth feature\n",
        "\n",
        "In our case:\n",
        "\n",
        "y = c + m1*'R&D Spent' + m2*'Administration' + m3*'Marketing Spent'\n",
        "\n",
        "The m values are called the model **coefficients** or **model parameters**."
      ]
    },
    {
      "cell_type": "markdown",
      "metadata": {
        "id": "AL9RJSg-0kH-",
        "colab_type": "text"
      },
      "source": [
        "We first assign the feature variable, 'R&D Spent','Administration', and 'Marketing Spent', in this case, to the variable `X` and the response variable `Profit` to the variable `y`."
      ]
    },
    {
      "cell_type": "code",
      "metadata": {
        "id": "IxIrDCn20p4A",
        "colab_type": "code",
        "colab": {
          "base_uri": "https://localhost:8080/",
          "height": 119
        },
        "outputId": "d747cfdf-ef6d-4204-bb64-51d3eaf7a7fc"
      },
      "source": [
        "#Assign the variable for x and y axis for Simple Linear regression\n",
        "x_SLR = startup[['R&D Spend']]\n",
        "y_SLR = startup['Profit']\n",
        "\n",
        "#Assign the variable for x and y axis for Multiple Kinear regression\n",
        "x_MLR = startup[['R&D Spend','Administration','Marketing Spend']]\n",
        "y_MLR = startup['Profit']\n",
        "print(x_MLR.head())"
      ],
      "execution_count": 10,
      "outputs": [
        {
          "output_type": "stream",
          "text": [
            "   R&D Spend  Administration  Marketing Spend\n",
            "0  165349.20       136897.80        471784.10\n",
            "1  162597.70       151377.59        443898.53\n",
            "2  153441.51       101145.55        407934.54\n",
            "3  144372.41       118671.85        383199.62\n",
            "4  142107.34        91391.77        366168.42\n"
          ],
          "name": "stdout"
        }
      ]
    },
    {
      "cell_type": "markdown",
      "metadata": {
        "id": "fc3isHLl0uxj",
        "colab_type": "text"
      },
      "source": [
        "Train-Test Split\n",
        "\n",
        "You now need to split our variable into training and testing sets. You'll perform this by importing `train_test_split` from the `sklearn.model_selection` library. It is usually a good practice to keep 70% of the data in your train dataset and the rest 30% in your test dataset"
      ]
    },
    {
      "cell_type": "code",
      "metadata": {
        "id": "PdKgGGtu0xQT",
        "colab_type": "code",
        "colab": {}
      },
      "source": [
        "from sklearn.model_selection import train_test_split\n",
        "#Set test and train parameter for Single Linear Regression\n",
        "x_SLR_train, x_SLR_test, y_SLR_train, y_SLR_test = train_test_split(x_SLR, y_SLR, train_size = 0.7, test_size = 0.3, random_state = 100)\n",
        "\n",
        "#Set test and train parameter for Multiple Linear Regression\n",
        "x_MLR_train, x_MLR_test, y_MLR_train, y_MLR_test = train_test_split(x_MLR, y_MLR, train_size = 0.7, test_size = 0.3, random_state = 100)"
      ],
      "execution_count": 12,
      "outputs": []
    },
    {
      "cell_type": "code",
      "metadata": {
        "id": "xaZFc9fL05k-",
        "colab_type": "code",
        "colab": {
          "base_uri": "https://localhost:8080/",
          "height": 119
        },
        "outputId": "7905ea8f-c443-470a-cb15-1612431294d4"
      },
      "source": [
        "print(x_MLR_train.head())"
      ],
      "execution_count": 13,
      "outputs": [
        {
          "output_type": "stream",
          "text": [
            "    R&D Spend  Administration  Marketing Spend\n",
            "25   64664.71       139553.16        137962.62\n",
            "26   75328.87       144135.98        134050.07\n",
            "35   46014.02        85047.44        205517.64\n",
            "17   94657.16       145077.58        282574.31\n",
            "7   130298.13       145530.06        323876.68\n"
          ],
          "name": "stdout"
        }
      ]
    },
    {
      "cell_type": "code",
      "metadata": {
        "id": "Y08dCfPf089N",
        "colab_type": "code",
        "colab": {
          "base_uri": "https://localhost:8080/",
          "height": 119
        },
        "outputId": "f54e66d0-bc8b-488a-ac1c-93c09077d9b5"
      },
      "source": [
        "print(y_MLR_train.head())"
      ],
      "execution_count": 14,
      "outputs": [
        {
          "output_type": "stream",
          "text": [
            "25    107404.34\n",
            "26    105733.54\n",
            "35     96479.51\n",
            "17    125370.37\n",
            "7     155752.60\n",
            "Name: Profit, dtype: float64\n"
          ],
          "name": "stdout"
        }
      ]
    },
    {
      "cell_type": "code",
      "metadata": {
        "id": "eQqi0AeL1BX7",
        "colab_type": "code",
        "colab": {
          "base_uri": "https://localhost:8080/",
          "height": 34
        },
        "outputId": "6311c376-12d8-4bc3-eed6-ca497ec2dc9b"
      },
      "source": [
        "#Fitting simple regression to the training set\n",
        "from sklearn.linear_model import LinearRegression\n",
        "SLR_Regressor = LinearRegression()\n",
        "MLR_Regressor = LinearRegression()\n",
        "\n",
        "# Fit the model using Regressor.fit() for Simple Linear Regression\n",
        "SLR_Regressor.fit(x_SLR_train, y_SLR_train)\n",
        "\n",
        "# Fit the model using Regressor.fit() for Multiple Linear Regression\n",
        "MLR_Regressor.fit(x_MLR_train, y_MLR_train)"
      ],
      "execution_count": 15,
      "outputs": [
        {
          "output_type": "execute_result",
          "data": {
            "text/plain": [
              "LinearRegression(copy_X=True, fit_intercept=True, n_jobs=None, normalize=False)"
            ]
          },
          "metadata": {
            "tags": []
          },
          "execution_count": 15
        }
      ]
    },
    {
      "cell_type": "code",
      "metadata": {
        "id": "JKvM10eJ1FHg",
        "colab_type": "code",
        "colab": {
          "base_uri": "https://localhost:8080/",
          "height": 629
        },
        "outputId": "ca796e6c-8873-4ed0-f7ab-b0c28036a538"
      },
      "source": [
        "print(x_MLR_train)"
      ],
      "execution_count": 16,
      "outputs": [
        {
          "output_type": "stream",
          "text": [
            "    R&D Spend  Administration  Marketing Spend\n",
            "25   64664.71       139553.16        137962.62\n",
            "26   75328.87       144135.98        134050.07\n",
            "35   46014.02        85047.44        205517.64\n",
            "17   94657.16       145077.58        282574.31\n",
            "7   130298.13       145530.06        323876.68\n",
            "47       0.00       135426.92             0.00\n",
            "31   61136.38       152701.92         88218.23\n",
            "32   63408.86       129219.61         46085.25\n",
            "19   86419.70       153514.11             0.00\n",
            "21   78389.47       153773.43        299737.29\n",
            "13   91992.39       135495.07        252664.93\n",
            "1   162597.70       151377.59        443898.53\n",
            "4   142107.34        91391.77        366168.42\n",
            "12   93863.75       127320.38        249839.44\n",
            "27   72107.60       127864.55        353183.81\n",
            "40   28754.33       118546.05        172795.67\n",
            "22   73994.56       122782.75        303319.26\n",
            "29   65605.48       153032.06        107138.38\n",
            "9   123334.88       108679.17        304981.62\n",
            "16   78013.11       121597.55        264346.06\n",
            "44   22177.74       154806.14         28334.72\n",
            "48     542.05        51743.15             0.00\n",
            "46    1315.46       115816.21        297114.46\n",
            "14  119943.24       156547.42        256512.92\n",
            "41   27892.92        84710.77        164470.71\n",
            "2   153441.51       101145.55        407934.54\n",
            "34   46426.07       157693.92        210797.67\n",
            "30   61994.48       115641.28         91131.24\n",
            "10  101913.08       110594.11        229160.95\n",
            "15  114523.61       122616.84        261776.23\n",
            "23   67532.53       105751.03        304768.73\n",
            "39   38558.51        82982.09        174999.30\n",
            "3   144372.41       118671.85        383199.62\n",
            "24   77044.01        99281.34        140574.81\n",
            "8   120542.52       148718.95        311613.29\n"
          ],
          "name": "stdout"
        }
      ]
    },
    {
      "cell_type": "code",
      "metadata": {
        "id": "bsr4UDZq1JQT",
        "colab_type": "code",
        "colab": {}
      },
      "source": [
        "#Reshape 2D array in 1D array in Simple Linear Regression case\n",
        "x_SLR_train = x_SLR_train.values.reshape(-1,1)\n",
        "X_SLR_test = x_SLR_test.values.reshape(-1,1)"
      ],
      "execution_count": 17,
      "outputs": []
    },
    {
      "cell_type": "code",
      "metadata": {
        "id": "CgfHYqfy1MSv",
        "colab_type": "code",
        "colab": {
          "base_uri": "https://localhost:8080/",
          "height": 119
        },
        "outputId": "b426d59e-7d9d-449e-ae09-ad413c97172d"
      },
      "source": [
        "#x_MLR_train = x_MLR_train.values.reshape(-1,1)\n",
        "#x_MLR_train = pd.DataFrame({'x_MLR_train': x_MLR_train[:, 0]})\n",
        "#X_test = X_test.values.reshape(-1,1)\n",
        "x_MLR_train_Col1=x_MLR_train['R&D Spend'].to_numpy()\n",
        "x_MLR_train_Col2=x_MLR_train['Administration'].to_numpy()\n",
        "x_MLR_train_Col3=x_MLR_train['Marketing Spend'].to_numpy()\n",
        "\n",
        "x_MLR_test_Col1=x_MLR_test['R&D Spend'].to_numpy()\n",
        "x_MLR_test_Col2=x_MLR_test['Administration'].to_numpy()\n",
        "x_MLR_test_Col3=x_MLR_test['Marketing Spend'].to_numpy()\n",
        "\n",
        "\n",
        "x_MLR_train_Col3"
      ],
      "execution_count": 18,
      "outputs": [
        {
          "output_type": "execute_result",
          "data": {
            "text/plain": [
              "array([137962.62, 134050.07, 205517.64, 282574.31, 323876.68,      0.  ,\n",
              "        88218.23,  46085.25,      0.  , 299737.29, 252664.93, 443898.53,\n",
              "       366168.42, 249839.44, 353183.81, 172795.67, 303319.26, 107138.38,\n",
              "       304981.62, 264346.06,  28334.72,      0.  , 297114.46, 256512.92,\n",
              "       164470.71, 407934.54, 210797.67,  91131.24, 229160.95, 261776.23,\n",
              "       304768.73, 174999.3 , 383199.62, 140574.81, 311613.29])"
            ]
          },
          "metadata": {
            "tags": []
          },
          "execution_count": 18
        }
      ]
    },
    {
      "cell_type": "code",
      "metadata": {
        "id": "_jfjsbpo1PbJ",
        "colab_type": "code",
        "colab": {
          "base_uri": "https://localhost:8080/",
          "height": 51
        },
        "outputId": "bd9eae8d-5c69-4452-8509-98f3e0ee5156"
      },
      "source": [
        "print(SLR_Regressor.intercept_)\n",
        "print(SLR_Regressor.coef_)"
      ],
      "execution_count": 19,
      "outputs": [
        {
          "output_type": "stream",
          "text": [
            "46823.27683169804\n",
            "[0.87393216]\n"
          ],
          "name": "stdout"
        }
      ]
    },
    {
      "cell_type": "code",
      "metadata": {
        "id": "cjJp1cf_1Tiy",
        "colab_type": "code",
        "colab": {}
      },
      "source": [
        "#x_SLR_train"
      ],
      "execution_count": null,
      "outputs": []
    },
    {
      "cell_type": "markdown",
      "metadata": {
        "id": "l200Fx0P1WHE",
        "colab_type": "text"
      },
      "source": [
        "Scatter graph for x-train and y train data for Simple Linear Regression"
      ]
    },
    {
      "cell_type": "code",
      "metadata": {
        "id": "rsM4QgI71Yvi",
        "colab_type": "code",
        "colab": {
          "base_uri": "https://localhost:8080/",
          "height": 265
        },
        "outputId": "ed7da4a2-15c3-4968-c3a0-d4700c64dc3b"
      },
      "source": [
        "plt.scatter(x_SLR_train, y_SLR_train)\n",
        "plt.plot(x_SLR_train, 46823.27683169805 + 0.87393216*x_SLR_train, 'r')\n",
        "plt.show()"
      ],
      "execution_count": 20,
      "outputs": [
        {
          "output_type": "display_data",
          "data": {
            "image/png": "[encoded data removed]",
            "text/plain": [
              "<Figure size 432x288 with 1 Axes>"
            ]
          },
          "metadata": {
            "tags": [],
            "needs_background": "light"
          }
        }
      ]
    },
    {
      "cell_type": "markdown",
      "metadata": {
        "id": "AjX8QOnO1gjB",
        "colab_type": "text"
      },
      "source": [
        "# Step 4. Scatter graph for x_train and y_train data for Multiple Linear Regression."
      ]
    },
    {
      "cell_type": "code",
      "metadata": {
        "id": "9IYIlaGz1iZD",
        "colab_type": "code",
        "colab": {
          "base_uri": "https://localhost:8080/",
          "height": 51
        },
        "outputId": "158154be-62ec-4dbe-eb58-a8bec47bdc3a"
      },
      "source": [
        "print(MLR_Regressor.intercept_)\n",
        "print(MLR_Regressor.coef_)"
      ],
      "execution_count": 21,
      "outputs": [
        {
          "output_type": "stream",
          "text": [
            "47085.14615116072\n",
            "[ 0.82847059 -0.01579485  0.02421324]\n"
          ],
          "name": "stdout"
        }
      ]
    },
    {
      "cell_type": "code",
      "metadata": {
        "id": "co3hbPUL1pO7",
        "colab_type": "code",
        "colab": {
          "base_uri": "https://localhost:8080/",
          "height": 265
        },
        "outputId": "607b5ffe-bc3d-4c9e-f44f-6ea23623b02f"
      },
      "source": [
        "#R&D Spend with Y-train data.\n",
        "plt.scatter(x_MLR_train_Col1, y_MLR_train)\n",
        "plt.plot(x_MLR_train_Col1, 47085.14615116072 + 0.82847059*x_MLR_train_Col1, 'r')\n",
        "plt.show()"
      ],
      "execution_count": 22,
      "outputs": [
        {
          "output_type": "display_data",
          "data": {
            "image/png": "[encoded data removed]",
            "text/plain": [
              "<Figure size 432x288 with 1 Axes>"
            ]
          },
          "metadata": {
            "tags": [],
            "needs_background": "light"
          }
        }
      ]
    },
    {
      "cell_type": "code",
      "metadata": {
        "id": "BhfzGs0O1s63",
        "colab_type": "code",
        "colab": {
          "base_uri": "https://localhost:8080/",
          "height": 265
        },
        "outputId": "5090f3cd-11dd-42b6-bcca-ed4454609918"
      },
      "source": [
        "#Administration data with Y-train data.\n",
        "plt.scatter(x_MLR_train_Col2, y_MLR_train)\n",
        "plt.plot(x_MLR_train_Col2, 47085.14615116072 - 0.01579485*x_MLR_train_Col2, 'r')\n",
        "plt.show()"
      ],
      "execution_count": 23,
      "outputs": [
        {
          "output_type": "display_data",
          "data": {
            "image/png": "[encoded data removed]",
            "text/plain": [
              "<Figure size 432x288 with 1 Axes>"
            ]
          },
          "metadata": {
            "tags": [],
            "needs_background": "light"
          }
        }
      ]
    },
    {
      "cell_type": "code",
      "metadata": {
        "id": "K_SdxLC-1wb8",
        "colab_type": "code",
        "colab": {
          "base_uri": "https://localhost:8080/",
          "height": 265
        },
        "outputId": "8e46d739-9aea-4e47-c449-5aad0dcda943"
      },
      "source": [
        "#Marketing Spend data with Y-train data.\n",
        "plt.scatter(x_MLR_train_Col3, y_MLR_train)\n",
        "plt.plot(x_MLR_train_Col3, 47085.14615116072 + 0.82847059*x_MLR_train_Col3, 'r')\n",
        "plt.show()"
      ],
      "execution_count": 24,
      "outputs": [
        {
          "output_type": "display_data",
          "data": {
            "image/png": "[encoded data removed]",
            "text/plain": [
              "<Figure size 432x288 with 1 Axes>"
            ]
          },
          "metadata": {
            "tags": [],
            "needs_background": "light"
          }
        }
      ]
    },
    {
      "cell_type": "markdown",
      "metadata": {
        "id": "9uwd9vLV115a",
        "colab_type": "text"
      },
      "source": [
        "## Step 4: Residual analysis \n",
        "To validate assumptions of the model, and hence the reliability for inference"
      ]
    },
    {
      "cell_type": "markdown",
      "metadata": {
        "id": "2bk1JBdC17AD",
        "colab_type": "text"
      },
      "source": [
        "#### Distribution of the error terms\n",
        "We need to check if the error terms are also normally distributed (which is infact, one of the major assumptions of linear regression), let us plot the histogram of the error terms and see what it looks like."
      ]
    },
    {
      "cell_type": "code",
      "metadata": {
        "id": "dJSFLrtr182q",
        "colab_type": "code",
        "colab": {
          "base_uri": "https://localhost:8080/",
          "height": 119
        },
        "outputId": "f9a331e9-cf39-42dd-9e48-c859a4a91c5b"
      },
      "source": [
        "y_SLR_pred = SLR_Regressor.predict(x_SLR_test)\n",
        "SLR_res = (y_SLR_test - y_SLR_pred) \n",
        "print(SLR_res.head())"
      ],
      "execution_count": 25,
      "outputs": [
        {
          "output_type": "stream",
          "text": [
            "6     -8345.546895\n",
            "36    18834.731406\n",
            "37     4611.716464\n",
            "28    -1265.444541\n",
            "43     9384.747018\n",
            "Name: Profit, dtype: float64\n"
          ],
          "name": "stdout"
        }
      ]
    },
    {
      "cell_type": "code",
      "metadata": {
        "id": "rOB2mye52CNc",
        "colab_type": "code",
        "colab": {
          "base_uri": "https://localhost:8080/",
          "height": 314
        },
        "outputId": "bc0a4307-5360-4373-9286-77f41505680a"
      },
      "source": [
        "fig = plt.figure()\n",
        "sns.distplot(SLR_res, bins = 15)\n",
        "fig.suptitle('Error Terms', fontsize = 15)                  # Plot heading \n",
        "plt.xlabel('y_SLR_test - y_SLR__pred', fontsize = 15)         # X-label\n",
        "plt.show()"
      ],
      "execution_count": 26,
      "outputs": [
        {
          "output_type": "display_data",
          "data": {
            "image/png": "[encoded data removed]",
            "text/plain": [
              "<Figure size 432x288 with 1 Axes>"
            ]
          },
          "metadata": {
            "tags": [],
            "needs_background": "light"
          }
        }
      ]
    },
    {
      "cell_type": "markdown",
      "metadata": {
        "id": "mosWLOcG2FkX",
        "colab_type": "text"
      },
      "source": [
        "Looking for pattern in the Residual"
      ]
    },
    {
      "cell_type": "code",
      "metadata": {
        "id": "evo1tUZp2GVk",
        "colab_type": "code",
        "colab": {
          "base_uri": "https://localhost:8080/",
          "height": 268
        },
        "outputId": "53aa59cc-b5ac-41d0-fc6c-c071dbfc8635"
      },
      "source": [
        "plt.scatter(x_SLR_test, y_SLR_test)\n",
        "plt.scatter(x_SLR_test, y_SLR_pred)\n",
        "plt.show()"
      ],
      "execution_count": 27,
      "outputs": [
        {
          "output_type": "display_data",
          "data": {
            "image/png": "[encoded data removed]",
            "text/plain": [
              "<Figure size 432x288 with 1 Axes>"
            ]
          },
          "metadata": {
            "tags": [],
            "needs_background": "light"
          }
        }
      ]
    },
    {
      "cell_type": "code",
      "metadata": {
        "id": "L2EIoApC2K4j",
        "colab_type": "code",
        "colab": {
          "base_uri": "https://localhost:8080/",
          "height": 34
        },
        "outputId": "63fac64f-d1c4-47fa-d505-c1f970b61dfb"
      },
      "source": [
        "#Checking the R-squared on the test set\n",
        "from sklearn.metrics import r2_score\n",
        "\n",
        "SLR_r_squared = r2_score(y_SLR_test, y_SLR_pred)\n",
        "print(SLR_r_squared)"
      ],
      "execution_count": 28,
      "outputs": [
        {
          "output_type": "stream",
          "text": [
            "0.9180698548847864\n"
          ],
          "name": "stdout"
        }
      ]
    },
    {
      "cell_type": "markdown",
      "metadata": {
        "id": "QDwQkl9T2PsV",
        "colab_type": "text"
      },
      "source": [
        "Residual Analysis for Mutliple Linear Regression"
      ]
    },
    {
      "cell_type": "code",
      "metadata": {
        "id": "RFHM8MlF2R-Z",
        "colab_type": "code",
        "colab": {
          "base_uri": "https://localhost:8080/",
          "height": 119
        },
        "outputId": "4964e659-1d9a-46c7-cf24-66e4a4b1b5cb"
      },
      "source": [
        "y_MLR_pred = MLR_Regressor.predict(x_MLR_test)\n",
        "MLR_res = (y_MLR_test - y_MLR_pred) \n",
        "print(MLR_res.head())"
      ],
      "execution_count": 29,
      "outputs": [
        {
          "output_type": "stream",
          "text": [
            "6     -3255.039887\n",
            "36    17012.862573\n",
            "37     2392.624638\n",
            "28     1499.599961\n",
            "43    10979.379058\n",
            "Name: Profit, dtype: float64\n"
          ],
          "name": "stdout"
        }
      ]
    },
    {
      "cell_type": "code",
      "metadata": {
        "id": "X033acKH2VIK",
        "colab_type": "code",
        "colab": {
          "base_uri": "https://localhost:8080/",
          "height": 314
        },
        "outputId": "7d223f7b-da60-40e9-cf5d-cf6a7be732b8"
      },
      "source": [
        "fig = plt.figure()\n",
        "sns.distplot(SLR_res, bins = 15)\n",
        "fig.suptitle('Error Terms', fontsize = 15)                  # Plot heading \n",
        "plt.xlabel('y_MLR_test - y_MLR__pred', fontsize = 15)         # X-label\n",
        "plt.show()"
      ],
      "execution_count": 30,
      "outputs": [
        {
          "output_type": "display_data",
          "data": {
            "image/png": "[encoded data removed]",
            "text/plain": [
              "<Figure size 432x288 with 1 Axes>"
            ]
          },
          "metadata": {
            "tags": [],
            "needs_background": "light"
          }
        }
      ]
    },
    {
      "cell_type": "code",
      "metadata": {
        "id": "aodjgJWH2YZm",
        "colab_type": "code",
        "colab": {
          "base_uri": "https://localhost:8080/",
          "height": 267
        },
        "outputId": "385373b9-2793-4983-adec-9a5aefc2c6f0"
      },
      "source": [
        "#R&D Spend\n",
        "plt.scatter(x_MLR_test_Col1, y_MLR_test)\n",
        "plt.scatter(x_MLR_test_Col1, y_MLR_pred)\n",
        "plt.show()"
      ],
      "execution_count": 31,
      "outputs": [
        {
          "output_type": "display_data",
          "data": {
            "image/png": "[encoded data removed]",
            "text/plain": [
              "<Figure size 432x288 with 1 Axes>"
            ]
          },
          "metadata": {
            "tags": [],
            "needs_background": "light"
          }
        }
      ]
    },
    {
      "cell_type": "code",
      "metadata": {
        "id": "fR4CSvrQ2biB",
        "colab_type": "code",
        "colab": {
          "base_uri": "https://localhost:8080/",
          "height": 267
        },
        "outputId": "6c374c26-adcb-4fb7-de61-066347a5f1d5"
      },
      "source": [
        "#Administration Spend\n",
        "plt.scatter(x_MLR_test_Col2, y_MLR_test)\n",
        "plt.scatter(x_MLR_test_Col2, y_MLR_pred)\n",
        "plt.show()"
      ],
      "execution_count": 32,
      "outputs": [
        {
          "output_type": "display_data",
          "data": {
            "image/png": "[encoded data removed]",
            "text/plain": [
              "<Figure size 432x288 with 1 Axes>"
            ]
          },
          "metadata": {
            "tags": [],
            "needs_background": "light"
          }
        }
      ]
    },
    {
      "cell_type": "code",
      "metadata": {
        "id": "OQLzEvTH2eqM",
        "colab_type": "code",
        "colab": {
          "base_uri": "https://localhost:8080/",
          "height": 267
        },
        "outputId": "0c20bcca-4bbe-4b53-d512-9cde6c2ecca1"
      },
      "source": [
        "#Marketing Spend'\n",
        "plt.scatter(x_MLR_test_Col3, y_MLR_test)\n",
        "plt.scatter(x_MLR_test_Col3, y_MLR_pred)\n",
        "plt.show()"
      ],
      "execution_count": 33,
      "outputs": [
        {
          "output_type": "display_data",
          "data": {
            "image/png": "[encoded data removed]",
            "text/plain": [
              "<Figure size 432x288 with 1 Axes>"
            ]
          },
          "metadata": {
            "tags": [],
            "needs_background": "light"
          }
        }
      ]
    },
    {
      "cell_type": "code",
      "metadata": {
        "id": "S9MCxmK32i93",
        "colab_type": "code",
        "colab": {
          "base_uri": "https://localhost:8080/",
          "height": 34
        },
        "outputId": "a6567c18-6649-4d9f-abce-73232d0cfbb6"
      },
      "source": [
        "#Checking the R-squared on the test set\n",
        "from sklearn.metrics import r2_score\n",
        "\n",
        "MLR_r_squared = r2_score(y_MLR_test, y_MLR_pred)\n",
        "print(MLR_r_squared)"
      ],
      "execution_count": 34,
      "outputs": [
        {
          "output_type": "stream",
          "text": [
            "0.9240267928295798\n"
          ],
          "name": "stdout"
        }
      ]
    }
  ]
}
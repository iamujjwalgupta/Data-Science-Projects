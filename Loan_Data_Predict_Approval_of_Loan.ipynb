{
  "nbformat": 4,
  "nbformat_minor": 0,
  "metadata": {
    "colab": {
      "name": "Loan-Data-Predict-Approval-of-Loan.ipynb",
      "provenance": [],
      "authorship_tag": "ABX9TyNYBRmHAXSTCQF0dIuhXb8P",
      "include_colab_link": true
    },
    "kernelspec": {
      "name": "python3",
      "display_name": "Python 3"
    }
  },
  "cells": [
    {
      "cell_type": "markdown",
      "metadata": {
        "id": "view-in-github",
        "colab_type": "text"
      },
      "source": [
        "<a href=\"https://colab.research.google.com/github/iamujjwalgupta/Machine-Learning-Projects/blob/master/Loan_Data_Predict_Approval_of_Loan.ipynb\" target=\"_parent\"><img src=\"https://colab.research.google.com/assets/colab-badge.svg\" alt=\"Open In Colab\"/></a>"
      ]
    },
    {
      "cell_type": "code",
      "metadata": {
        "id": "1lFUL22kWLWF",
        "colab_type": "code",
        "colab": {}
      },
      "source": [
        "'''\n",
        "LOAN DATASET\n",
        "'''\n",
        "\n",
        "# required libraries\n",
        "import pandas as pd\n",
        "from sklearn.linear_model import LogisticRegression\n",
        "from sklearn.model_selection import train_test_split\n",
        "from sklearn.preprocessing import LabelEncoder\n",
        "from sklearn.metrics import accuracy_score"
      ],
      "execution_count": 1,
      "outputs": []
    },
    {
      "cell_type": "code",
      "metadata": {
        "id": "JRjpL9dbWddc",
        "colab_type": "code",
        "colab": {
          "base_uri": "https://localhost:8080/",
          "height": 153
        },
        "outputId": "ca3cbb28-6ab3-4ea7-ca22-f534da21b239"
      },
      "source": [
        "# read the dataset\n",
        "data = pd.read_csv('/content/sample_data/LoanData.data')\n",
        "print(data.head())"
      ],
      "execution_count": 2,
      "outputs": [
        {
          "output_type": "stream",
          "text": [
            "    Loan_ID Gender Married  ... Credit_History Property_Area Loan_Status\n",
            "0  LP001002   Male      No  ...            1.0         Urban           Y\n",
            "1  LP001003   Male     Yes  ...            1.0         Rural           N\n",
            "2  LP001005   Male     Yes  ...            1.0         Urban           Y\n",
            "3  LP001006   Male     Yes  ...            1.0         Urban           Y\n",
            "4  LP001008   Male      No  ...            1.0         Urban           Y\n",
            "\n",
            "[5 rows x 13 columns]\n"
          ],
          "name": "stdout"
        }
      ]
    },
    {
      "cell_type": "code",
      "metadata": {
        "id": "fqDZGZgQW7r8",
        "colab_type": "code",
        "colab": {
          "base_uri": "https://localhost:8080/",
          "height": 170
        },
        "outputId": "673b98d2-2527-4870-aa3e-3161c6b69553"
      },
      "source": [
        "print('\\n\\nColumn Names\\n\\n')\n",
        "print(data.columns)"
      ],
      "execution_count": 3,
      "outputs": [
        {
          "output_type": "stream",
          "text": [
            "\n",
            "\n",
            "Column Names\n",
            "\n",
            "\n",
            "Index(['Loan_ID', 'Gender', 'Married', 'Dependents', 'Education',\n",
            "       'Self_Employed', 'ApplicantIncome', 'CoapplicantIncome', 'LoanAmount',\n",
            "       'Loan_Amount_Term', 'Credit_History', 'Property_Area', 'Loan_Status'],\n",
            "      dtype='object')\n"
          ],
          "name": "stdout"
        }
      ]
    },
    {
      "cell_type": "code",
      "metadata": {
        "id": "Cb3E1gaJW96T",
        "colab_type": "code",
        "colab": {}
      },
      "source": [
        "#label encode the target variable\n",
        "encode = LabelEncoder()\n",
        "data.Loan_Status = encode.fit_transform(data.Loan_Status)"
      ],
      "execution_count": 4,
      "outputs": []
    },
    {
      "cell_type": "code",
      "metadata": {
        "id": "ilpFhRwzXFaa",
        "colab_type": "code",
        "colab": {}
      },
      "source": [
        "# drop the null values\n",
        "data.dropna(how='any',inplace=True)"
      ],
      "execution_count": 5,
      "outputs": []
    },
    {
      "cell_type": "code",
      "metadata": {
        "id": "L1EPgnPtXKvT",
        "colab_type": "code",
        "colab": {}
      },
      "source": [
        "# train-test-split   \n",
        "train , test = train_test_split(data,test_size=0.2,random_state=0)"
      ],
      "execution_count": 6,
      "outputs": []
    },
    {
      "cell_type": "code",
      "metadata": {
        "id": "uilGrCb8XQrV",
        "colab_type": "code",
        "colab": {}
      },
      "source": [
        "# seperate the target and independent variable\n",
        "train_x = train.drop(columns=['Loan_ID','Loan_Status'],axis=1)\n",
        "train_y = train['Loan_Status']\n",
        "\n",
        "test_x = test.drop(columns=['Loan_ID','Loan_Status'],axis=1)\n",
        "test_y = test['Loan_Status']"
      ],
      "execution_count": 7,
      "outputs": []
    },
    {
      "cell_type": "code",
      "metadata": {
        "id": "hoRmDRoKXVU4",
        "colab_type": "code",
        "colab": {}
      },
      "source": [
        "# encode the data\n",
        "train_x = pd.get_dummies(train_x)\n",
        "test_x  = pd.get_dummies(test_x)"
      ],
      "execution_count": 8,
      "outputs": []
    },
    {
      "cell_type": "code",
      "metadata": {
        "id": "9SF_-RNmXZOn",
        "colab_type": "code",
        "colab": {
          "base_uri": "https://localhost:8080/",
          "height": 51
        },
        "outputId": "b5909f9f-ee83-4d03-c63b-1b46fb6ddb0f"
      },
      "source": [
        "print('shape of training data : ',train_x.shape)\n",
        "print('shape of testing data : ',test_x.shape)"
      ],
      "execution_count": 9,
      "outputs": [
        {
          "output_type": "stream",
          "text": [
            "shape of training data :  (384, 20)\n",
            "shape of testing data :  (96, 20)\n"
          ],
          "name": "stdout"
        }
      ]
    },
    {
      "cell_type": "code",
      "metadata": {
        "id": "QGbBp_sSXeQk",
        "colab_type": "code",
        "colab": {}
      },
      "source": [
        "# create the object of the model\n",
        "model = LogisticRegression(C=1.0, class_weight=None, dual=False, fit_intercept=True,\n",
        "                   intercept_scaling=1, l1_ratio=None, max_iter=10000,\n",
        "                   multi_class='auto', n_jobs=None, penalty='l2',\n",
        "                   random_state=None, solver='lbfgs', tol=0.0001, verbose=0,\n",
        "                   warm_start=False)"
      ],
      "execution_count": 15,
      "outputs": []
    },
    {
      "cell_type": "code",
      "metadata": {
        "id": "CbuBDEpOXixU",
        "colab_type": "code",
        "colab": {
          "base_uri": "https://localhost:8080/",
          "height": 68
        },
        "outputId": "bb2b27be-b489-42cb-c2fe-e7f90babc9d2"
      },
      "source": [
        "model.fit(train_x,train_y)\n",
        "\n",
        "predict = model.predict(test_x)\n",
        "\n",
        "print('Predicted Values on Test Data',predict)"
      ],
      "execution_count": 16,
      "outputs": [
        {
          "output_type": "stream",
          "text": [
            "Predicted Values on Test Data [1 1 1 1 1 1 1 1 1 1 1 1 0 1 1 1 1 1 0 1 1 1 1 1 0 1 1 1 1 1 1 1 1 1 1 1 1\n",
            " 1 1 0 1 1 1 1 1 1 1 1 1 1 1 1 1 1 1 1 0 0 0 0 1 1 0 1 1 1 1 1 1 1 1 1 1 0\n",
            " 1 1 1 1 1 1 1 1 1 0 1 1 0 1 1 0 1 0 1 1 1 1]\n"
          ],
          "name": "stdout"
        }
      ]
    },
    {
      "cell_type": "code",
      "metadata": {
        "id": "4Xe7NfdKXzku",
        "colab_type": "code",
        "colab": {
          "base_uri": "https://localhost:8080/",
          "height": 119
        },
        "outputId": "bee23474-ad71-4de0-d5e8-46723140124e"
      },
      "source": [
        "print('\\n\\nAccuracy Score on test data : \\n\\n')\n",
        "print(accuracy_score(test_y,predict))"
      ],
      "execution_count": 17,
      "outputs": [
        {
          "output_type": "stream",
          "text": [
            "\n",
            "\n",
            "Accuracy Score on test data : \n",
            "\n",
            "\n",
            "0.7604166666666666\n"
          ],
          "name": "stdout"
        }
      ]
    }
  ]
}
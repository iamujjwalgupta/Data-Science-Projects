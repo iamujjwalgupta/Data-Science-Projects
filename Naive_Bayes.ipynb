{
  "nbformat": 4,
  "nbformat_minor": 0,
  "metadata": {
    "colab": {
      "name": "Naive-Bayes.ipynb",
      "provenance": [],
      "authorship_tag": "ABX9TyPzL+nHWr/QZBWZkxvCPHrI",
      "include_colab_link": true
    },
    "kernelspec": {
      "name": "python3",
      "display_name": "Python 3"
    }
  },
  "cells": [
    {
      "cell_type": "markdown",
      "metadata": {
        "id": "view-in-github",
        "colab_type": "text"
      },
      "source": [
        "<a href=\"https://colab.research.google.com/github/iamujjwalgupta/Data-Science-Projects/blob/master/Naive_Bayes.ipynb\" target=\"_parent\"><img src=\"https://colab.research.google.com/assets/colab-badge.svg\" alt=\"Open In Colab\"/></a>"
      ]
    },
    {
      "cell_type": "code",
      "metadata": {
        "id": "80387Scl5wnA",
        "colab_type": "code",
        "colab": {}
      },
      "source": [
        "import pandas as pd #to perform excel operations\n",
        "from sklearn.preprocessing import LabelEncoder #to encode qualitative variables for machine readability\n",
        "from sklearn.model_selection import train_test_split #to split train and test datasets\n",
        "from sklearn.naive_bayes import GaussianNB #to perform ML\n",
        "from sklearn import metrics # to derive accuracy of prediction"
      ],
      "execution_count": 1,
      "outputs": []
    },
    {
      "cell_type": "code",
      "metadata": {
        "id": "R6egFyub56qJ",
        "colab_type": "code",
        "colab": {}
      },
      "source": [
        "df=pd.read_excel(r'/content/sample_data/Naive Bayes Demo Datasets.xlsx',sheet_name='Demo Data')"
      ],
      "execution_count": 2,
      "outputs": []
    },
    {
      "cell_type": "code",
      "metadata": {
        "id": "KtPqBaOh6MIB",
        "colab_type": "code",
        "colab": {}
      },
      "source": [
        "le=LabelEncoder() #To make calling this function convenient"
      ],
      "execution_count": 4,
      "outputs": []
    },
    {
      "cell_type": "code",
      "metadata": {
        "id": "q9niYZN66Vxn",
        "colab_type": "code",
        "colab": {}
      },
      "source": [
        "df['Weather_Cat'] = le.fit_transform(df['Weather']) #equivalent to LabelEncoder.transform(df['Weather'])\n",
        "df['Temperature_Cat'] = le.fit_transform(df['Temperature'])\n",
        "df['Play_Cat'] = le.fit_transform(df['Play'])"
      ],
      "execution_count": 5,
      "outputs": []
    },
    {
      "cell_type": "code",
      "metadata": {
        "id": "_a_UFbkh6am_",
        "colab_type": "code",
        "colab": {
          "base_uri": "https://localhost:8080/",
          "height": 153
        },
        "outputId": "6d5a967b-9e7e-4706-cb6e-f0f022dd9c51"
      },
      "source": [
        "print(\"************Old Data set************\")\n",
        "print(df.head(5))\n",
        "print(\"************************************\")"
      ],
      "execution_count": 6,
      "outputs": [
        {
          "output_type": "stream",
          "text": [
            "************Old Data set************\n",
            "    Weather Temperature Play  Weather_Cat  Temperature_Cat  Play_Cat\n",
            "0     Sunny         Hot   No            2                1         0\n",
            "1     Sunny         Hot   No            2                1         0\n",
            "2  Overcast         Hot  Yes            0                1         1\n",
            "3     Rainy        Mild  Yes            1                2         1\n",
            "4     Rainy        Cool  Yes            1                0         1\n",
            "************************************\n"
          ],
          "name": "stdout"
        }
      ]
    },
    {
      "cell_type": "code",
      "metadata": {
        "id": "HdhyAyAu6cTJ",
        "colab_type": "code",
        "colab": {}
      },
      "source": [
        "df1 = df[['Weather_Cat','Temperature_Cat','Play_Cat']].copy() #create a new dataset with encoded values"
      ],
      "execution_count": 7,
      "outputs": []
    },
    {
      "cell_type": "code",
      "metadata": {
        "id": "GqY9Xzuk6fEq",
        "colab_type": "code",
        "colab": {
          "base_uri": "https://localhost:8080/",
          "height": 52
        },
        "outputId": "5a51fef1-4c50-4804-87ff-02f7da9a2455"
      },
      "source": [
        "input(\"$$...Press enter to continue...$$\")"
      ],
      "execution_count": 8,
      "outputs": [
        {
          "output_type": "stream",
          "text": [
            "$$...Press enter to continue...$$\n"
          ],
          "name": "stdout"
        },
        {
          "output_type": "execute_result",
          "data": {
            "application/vnd.google.colaboratory.intrinsic+json": {
              "type": "string"
            },
            "text/plain": [
              "''"
            ]
          },
          "metadata": {
            "tags": []
          },
          "execution_count": 8
        }
      ]
    },
    {
      "cell_type": "code",
      "metadata": {
        "id": "1k2s1t4a6p87",
        "colab_type": "code",
        "colab": {
          "base_uri": "https://localhost:8080/",
          "height": 153
        },
        "outputId": "902ed7bb-32a8-43c1-c94d-d858e710bab9"
      },
      "source": [
        "print(\"************New Data set************\")\n",
        "print(df1.head(5))\n",
        "print(\"************************************\")"
      ],
      "execution_count": 9,
      "outputs": [
        {
          "output_type": "stream",
          "text": [
            "************New Data set************\n",
            "   Weather_Cat  Temperature_Cat  Play_Cat\n",
            "0            2                1         0\n",
            "1            2                1         0\n",
            "2            0                1         1\n",
            "3            1                2         1\n",
            "4            1                0         1\n",
            "************************************\n"
          ],
          "name": "stdout"
        }
      ]
    },
    {
      "cell_type": "code",
      "metadata": {
        "id": "8t4B34tb6zob",
        "colab_type": "code",
        "colab": {
          "base_uri": "https://localhost:8080/",
          "height": 52
        },
        "outputId": "f6b546b5-4189-41dd-bba3-5b8412d5e913"
      },
      "source": [
        "input(\"$$...Press enter to continue...$$\")"
      ],
      "execution_count": 10,
      "outputs": [
        {
          "output_type": "stream",
          "text": [
            "$$...Press enter to continue...$$\n"
          ],
          "name": "stdout"
        },
        {
          "output_type": "execute_result",
          "data": {
            "application/vnd.google.colaboratory.intrinsic+json": {
              "type": "string"
            },
            "text/plain": [
              "''"
            ]
          },
          "metadata": {
            "tags": []
          },
          "execution_count": 10
        }
      ]
    },
    {
      "cell_type": "code",
      "metadata": {
        "id": "451FhvoU63qq",
        "colab_type": "code",
        "colab": {}
      },
      "source": [
        "train, test = train_test_split(df1,test_size=0.2) # Splitting the dataset: 80% train set, 20% test set"
      ],
      "execution_count": 11,
      "outputs": []
    },
    {
      "cell_type": "code",
      "metadata": {
        "id": "xdMbou9d66vN",
        "colab_type": "code",
        "colab": {
          "base_uri": "https://localhost:8080/",
          "height": 170
        },
        "outputId": "c347011c-fd79-4e2e-9a35-fd0ec1364105"
      },
      "source": [
        "print(\"::::::::::Train set::::::::\")\n",
        "print(train.head(5))\n",
        "print(\"Size of train set:\"+str(len(train.index)))\n",
        "print(\":::::::::::::::::::::::::::\")"
      ],
      "execution_count": 12,
      "outputs": [
        {
          "output_type": "stream",
          "text": [
            "::::::::::Train set::::::::\n",
            "    Weather_Cat  Temperature_Cat  Play_Cat\n",
            "5             1                0         0\n",
            "46            2                2         0\n",
            "9             1                2         1\n",
            "43            1                0         1\n",
            "28            0                1         1\n",
            "Size of train set:41\n",
            ":::::::::::::::::::::::::::\n"
          ],
          "name": "stdout"
        }
      ]
    },
    {
      "cell_type": "code",
      "metadata": {
        "id": "rdnYaVDo6-b7",
        "colab_type": "code",
        "colab": {
          "base_uri": "https://localhost:8080/",
          "height": 52
        },
        "outputId": "f4382780-aadd-4cfa-932f-2ed2aec3710e"
      },
      "source": [
        "input(\"$$...Press enter to continue...$$\")"
      ],
      "execution_count": 13,
      "outputs": [
        {
          "output_type": "stream",
          "text": [
            "$$...Press enter to continue...$$\n"
          ],
          "name": "stdout"
        },
        {
          "output_type": "execute_result",
          "data": {
            "application/vnd.google.colaboratory.intrinsic+json": {
              "type": "string"
            },
            "text/plain": [
              "''"
            ]
          },
          "metadata": {
            "tags": []
          },
          "execution_count": 13
        }
      ]
    },
    {
      "cell_type": "code",
      "metadata": {
        "id": "bxfvr9Hu7Ca9",
        "colab_type": "code",
        "colab": {
          "base_uri": "https://localhost:8080/",
          "height": 170
        },
        "outputId": "89a78497-a133-41c0-81e3-cb7a308a42e6"
      },
      "source": [
        "print(\":::::::::::Test set::::::::\")\n",
        "print(test.head(5))\n",
        "print(\"Size of test set: \"+ str(len(test.index)))\n",
        "print(\":::::::::::::::::::::::::::\")"
      ],
      "execution_count": 14,
      "outputs": [
        {
          "output_type": "stream",
          "text": [
            ":::::::::::Test set::::::::\n",
            "    Weather_Cat  Temperature_Cat  Play_Cat\n",
            "10            2                2         1\n",
            "36            2                2         1\n",
            "0             2                1         0\n",
            "14            2                1         0\n",
            "11            0                2         1\n",
            "Size of test set: 11\n",
            ":::::::::::::::::::::::::::\n"
          ],
          "name": "stdout"
        }
      ]
    },
    {
      "cell_type": "code",
      "metadata": {
        "id": "iI0D1zvN7FXf",
        "colab_type": "code",
        "colab": {
          "base_uri": "https://localhost:8080/",
          "height": 52
        },
        "outputId": "cd06217d-bb5b-4385-fdb3-4b7f91693d83"
      },
      "source": [
        "input(\"$$...Press enter to continue...$$\")"
      ],
      "execution_count": 15,
      "outputs": [
        {
          "output_type": "stream",
          "text": [
            "$$...Press enter to continue...$$\n"
          ],
          "name": "stdout"
        },
        {
          "output_type": "execute_result",
          "data": {
            "application/vnd.google.colaboratory.intrinsic+json": {
              "type": "string"
            },
            "text/plain": [
              "''"
            ]
          },
          "metadata": {
            "tags": []
          },
          "execution_count": 15
        }
      ]
    },
    {
      "cell_type": "code",
      "metadata": {
        "id": "e_SAXnj47J4m",
        "colab_type": "code",
        "colab": {
          "base_uri": "https://localhost:8080/",
          "height": 51
        },
        "outputId": "e9085fb0-3410-4f3c-b857-b8b5f1ede1d7"
      },
      "source": [
        "#Learning phase starts here\n",
        "print(\"============= Model training begins here =============\")\n",
        "model = GaussianNB()\n",
        "#The below statement explicitly defines which columns are predictors and which col is target\n",
        "model.fit(train[['Weather_Cat','Temperature_Cat']],train['Play_Cat'])\n",
        "print(\"=============== Model training ends here ===============\")\n",
        "#Learning phase ends here"
      ],
      "execution_count": 16,
      "outputs": [
        {
          "output_type": "stream",
          "text": [
            "============= Model training begins here =============\n",
            "=============== Model training ends here ===============\n"
          ],
          "name": "stdout"
        }
      ]
    },
    {
      "cell_type": "code",
      "metadata": {
        "id": "WECIekLA7Om0",
        "colab_type": "code",
        "colab": {
          "base_uri": "https://localhost:8080/",
          "height": 52
        },
        "outputId": "5dd43a6e-280f-427f-8f2b-5b1a0ed899a6"
      },
      "source": [
        "input(\"$$...Press enter to continue...$$\")"
      ],
      "execution_count": 17,
      "outputs": [
        {
          "output_type": "stream",
          "text": [
            "$$...Press enter to continue...$$\n"
          ],
          "name": "stdout"
        },
        {
          "output_type": "execute_result",
          "data": {
            "application/vnd.google.colaboratory.intrinsic+json": {
              "type": "string"
            },
            "text/plain": [
              "''"
            ]
          },
          "metadata": {
            "tags": []
          },
          "execution_count": 17
        }
      ]
    },
    {
      "cell_type": "code",
      "metadata": {
        "id": "1cqlRNCR7R-d",
        "colab_type": "code",
        "colab": {
          "base_uri": "https://localhost:8080/",
          "height": 34
        },
        "outputId": "e9bb65ad-a33e-410d-da6c-ee4e3ffbb038"
      },
      "source": [
        "#Test phase starts\n",
        "print(\"********** Testing model performance **********\")"
      ],
      "execution_count": 18,
      "outputs": [
        {
          "output_type": "stream",
          "text": [
            "********** Testing model performance **********\n"
          ],
          "name": "stdout"
        }
      ]
    },
    {
      "cell_type": "code",
      "metadata": {
        "id": "eUbsIdcI7ViU",
        "colab_type": "code",
        "colab": {
          "base_uri": "https://localhost:8080/",
          "height": 69
        },
        "outputId": "41ca309a-f4c1-4fe2-bfd8-219019f912bc"
      },
      "source": [
        "predictions= model.predict(test[['Weather_Cat','Temperature_Cat']]) #subjects the test data set to our ML model\n",
        "print(\"Prediction Accuracy: \", metrics.accuracy_score(test['Play_Cat'], predictions)) #compares actuals vs. predicted\n",
        "input(\"$$...Press enter to continue...$$\")"
      ],
      "execution_count": 19,
      "outputs": [
        {
          "output_type": "stream",
          "text": [
            "Prediction Accuracy:  0.6363636363636364\n",
            "$$...Press enter to continue...$$\n"
          ],
          "name": "stdout"
        },
        {
          "output_type": "execute_result",
          "data": {
            "application/vnd.google.colaboratory.intrinsic+json": {
              "type": "string"
            },
            "text/plain": [
              "''"
            ]
          },
          "metadata": {
            "tags": []
          },
          "execution_count": 19
        }
      ]
    },
    {
      "cell_type": "code",
      "metadata": {
        "id": "YqK0X07b7Zw_",
        "colab_type": "code",
        "colab": {
          "base_uri": "https://localhost:8080/",
          "height": 85
        },
        "outputId": "c951b87b-4be1-4a49-992b-9386f862f58d"
      },
      "source": [
        "print(\"Weather    : \"+str(test['Weather_Cat'].tolist()) + \" | 0=Overcast; 1=Rainy; 2=Sunny\")\n",
        "print(\"Temperature: \"+str(test['Temperature_Cat'].tolist()) + \" | 0=Cool; 1=Hot; 2=Mild\")\n",
        "print(\"Play_Actual: \"+str(test['Play_Cat'].tolist()) + \" | 0=No; 1=Yes\")\n",
        "print(\"Play_predic: \"+str(predictions.tolist()) + \" | 0=No; 1=Yes\")"
      ],
      "execution_count": 20,
      "outputs": [
        {
          "output_type": "stream",
          "text": [
            "Weather    : [2, 2, 2, 2, 0, 2, 2, 0, 1, 1, 0] | 0=Overcast; 1=Rainy; 2=Sunny\n",
            "Temperature: [2, 2, 1, 1, 2, 0, 0, 2, 2, 2, 0] | 0=Cool; 1=Hot; 2=Mild\n",
            "Play_Actual: [1, 1, 0, 0, 1, 1, 1, 1, 1, 1, 1] | 0=No; 1=Yes\n",
            "Play_predic: [0, 0, 0, 0, 1, 0, 0, 1, 1, 1, 1] | 0=No; 1=Yes\n"
          ],
          "name": "stdout"
        }
      ]
    },
    {
      "cell_type": "markdown",
      "metadata": {
        "id": "7_YdjAuI7ePI",
        "colab_type": "text"
      },
      "source": [
        "#Test phase ends here"
      ]
    },
    {
      "cell_type": "markdown",
      "metadata": {
        "id": "JJCeIPNL7f24",
        "colab_type": "text"
      },
      "source": [
        ""
      ]
    }
  ]
}